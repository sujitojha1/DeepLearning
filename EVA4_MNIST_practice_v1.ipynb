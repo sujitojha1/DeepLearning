{
  "nbformat": 4,
  "nbformat_minor": 0,
  "metadata": {
    "colab": {
      "name": "EVA4_MNIST_practice_v1.ipynb",
      "provenance": [],
      "collapsed_sections": [
        "u6hYGOyF9sZJ",
        "y89nd3wy-E9a",
        "RKvI0m3Z_yzN",
        "IpTelr8WHA7q",
        "vDF-2Jd6QbUV",
        "x1rFV43NttfD",
        "R53s5QQRRP4Q",
        "CFYUZvBbYFJa",
        "w-nI888X-iGI"
      ],
      "authorship_tag": "ABX9TyP/wGcdX+JKWRobPHBbwFyo",
      "include_colab_link": true
    },
    "kernelspec": {
      "name": "python3",
      "display_name": "Python 3"
    },
    "accelerator": "GPU"
  },
  "cells": [
    {
      "cell_type": "markdown",
      "metadata": {
        "id": "view-in-github",
        "colab_type": "text"
      },
      "source": [
        "<a href=\"https://colab.research.google.com/github/sujitojha1/DeepLearning_PyTorch_EVA4/blob/master/EVA4_MNIST_practice_v1.ipynb\" target=\"_parent\"><img src=\"https://colab.research.google.com/assets/colab-badge.svg\" alt=\"Open In Colab\"/></a>"
      ]
    },
    {
      "cell_type": "markdown",
      "metadata": {
        "id": "b6a_sEZJ6z11",
        "colab_type": "text"
      },
      "source": [
        "# PyTorch Practice - MNIST data\n",
        "\n",
        "## Target\n",
        "\n",
        "1.   Get the setup right\n",
        "2.   Set Transforms\n",
        "3.   Set Basic Working Code\n",
        "4.   Set Basic Training & Test Loop\n",
        "\n",
        "## Results\n",
        "\n",
        "\n",
        "1.   Model size: 6.3 M\n",
        "2.   Best Training accuracy : 100%\n",
        "3.   Best Test accuracy: 99.3%\n",
        "\n",
        "\n",
        "## Analysis\n",
        "\n",
        "\n",
        "\n",
        "1.   Extremely heavy model for MNIST problem\n",
        "2.   Model is overfitting, there no room to learn further from training data to improve the test performance\n",
        "\n",
        "\n",
        "\n"
      ]
    },
    {
      "cell_type": "markdown",
      "metadata": {
        "id": "u6hYGOyF9sZJ",
        "colab_type": "text"
      },
      "source": [
        "### 1. Import Libraries"
      ]
    },
    {
      "cell_type": "code",
      "metadata": {
        "id": "NRDZ-vRk6nfX",
        "colab_type": "code",
        "colab": {}
      },
      "source": [
        "# Set for future print function\n",
        "from __future__ import print_function\n",
        "\n",
        "# Import PyTorch Libraries\n",
        "import torch # Base library\n",
        "import torch.nn as nn # To Define the neural network architecture as object\n",
        "import torch.nn.functional as F # To define functional operation on NN object\n",
        "import torch.optim as optim # Optimization function libraries SGD, ADAM\n",
        "from torchvision import datasets, transforms #Utilizing existing dataset & transforms\n",
        "\n",
        "# Model summary PyTorch\n",
        "!pip install torchsummary\n",
        "from torchsummary import summary\n",
        "\n",
        "# tqdm - to visualize training progress\n",
        "from tqdm import tqdm\n",
        "\n",
        "# Plotting libraries\n",
        "import matplotlib.pyplot as plt\n",
        "%matplotlib inline"
      ],
      "execution_count": 0,
      "outputs": []
    },
    {
      "cell_type": "markdown",
      "metadata": {
        "id": "y89nd3wy-E9a",
        "colab_type": "text"
      },
      "source": [
        "### 2. Creating train and test transforms"
      ]
    },
    {
      "cell_type": "code",
      "metadata": {
        "id": "XIikeno89N5f",
        "colab_type": "code",
        "colab": {}
      },
      "source": [
        "# Train phase transforms\n",
        "train_transforms = transforms.Compose([\n",
        "                                       transforms.ToTensor(), # To Convert image 0-255 to 0-1\n",
        "                                       transforms.Normalize((0.1307,),(0.3081,)) # To normalize the data\n",
        "                                      ])\n",
        "\n",
        "# Test phase transforms\n",
        "test_transforms = transforms.Compose([\n",
        "                                      transforms.ToTensor(),\n",
        "                                      transforms.Normalize((0.1307,),(0.3081,))\n",
        "])"
      ],
      "execution_count": 0,
      "outputs": []
    },
    {
      "cell_type": "markdown",
      "metadata": {
        "id": "RKvI0m3Z_yzN",
        "colab_type": "text"
      },
      "source": [
        "### 3. Loading train and test dataset"
      ]
    },
    {
      "cell_type": "code",
      "metadata": {
        "id": "zkVVIGeb_X0E",
        "colab_type": "code",
        "colab": {}
      },
      "source": [
        "train = datasets.MNIST('.data/',train=True,download=True, transform=train_transforms)\n",
        "test = datasets.MNIST('.data/',train=False,download=True,transform=test_transforms)"
      ],
      "execution_count": 0,
      "outputs": []
    },
    {
      "cell_type": "markdown",
      "metadata": {
        "id": "IpTelr8WHA7q",
        "colab_type": "text"
      },
      "source": [
        "### 4. Dataloader (arguments, test/train)"
      ]
    },
    {
      "cell_type": "code",
      "metadata": {
        "id": "j89D1tbdGm6c",
        "colab_type": "code",
        "colab": {}
      },
      "source": [
        "# CUDA?\n",
        "cuda = torch.cuda.is_available()\n",
        "print(\"CUDA Available?\", cuda)\n",
        "\n",
        "# For reproducibility \n",
        "SEED = 1\n",
        "\n",
        "torch.manual_seed(SEED)\n",
        "\n",
        "if cuda:\n",
        "  torch.cuda.manual_seed(SEED)\n",
        "\n",
        "# dataloader argument - defining the setting\n",
        "dataloader_args = dict(shuffle=True, batch_size = 128, num_workers = 4, pin_memory = True) if cuda else dict(shuffle=True, batch_size=64)\n",
        "\n",
        "# Train data loader\n",
        "train_loader = torch.utils.data.DataLoader(train,**dataloader_args)\n",
        "\n",
        "# Test data loader\n",
        "test_loader = torch.utils.data.DataLoader(test,**dataloader_args)"
      ],
      "execution_count": 0,
      "outputs": []
    },
    {
      "cell_type": "markdown",
      "metadata": {
        "id": "vDF-2Jd6QbUV",
        "colab_type": "text"
      },
      "source": [
        "### 5. Exploratory Data analysis"
      ]
    },
    {
      "cell_type": "markdown",
      "metadata": {
        "id": "hwgp3PuPQqMI",
        "colab_type": "text"
      },
      "source": [
        "#### 5a. Data statistics (Summary)\n",
        "\n",
        "It is important to understand the data distribution and summary statistics."
      ]
    },
    {
      "cell_type": "code",
      "metadata": {
        "id": "4ZUiwo6FJp_i",
        "colab_type": "code",
        "colab": {}
      },
      "source": [
        "# Load train data as numpy array\n",
        "train_data = train.data\n",
        "train_data = train.transform(train_data.numpy())\n",
        "\n",
        "print('[ Train ]')\n",
        "print('- Numpy Shape:', train.data.cpu().numpy().shape)\n",
        "print('- Tensor Shape:', train.data.size())\n",
        "print('- min:',torch.min(train_data))\n",
        "print('- max:',torch.max(train_data))\n",
        "print('- mean: ',torch.mean(train_data))\n",
        "print('- std :', torch.std(train_data))\n",
        "print('- var:', torch.var(train_data))"
      ],
      "execution_count": 0,
      "outputs": []
    },
    {
      "cell_type": "markdown",
      "metadata": {
        "id": "njN3duNVzTKn",
        "colab_type": "text"
      },
      "source": [
        "#### 5b. Visualize data - get understanding"
      ]
    },
    {
      "cell_type": "code",
      "metadata": {
        "id": "pcQxdIXYUXHH",
        "colab_type": "code",
        "colab": {
          "base_uri": "https://localhost:8080/",
          "height": 0
        },
        "outputId": "a2b462b3-2be0-4a9f-c4d7-60ea40730a74"
      },
      "source": [
        "data_iter = iter(train_loader)\n",
        "images, label = data_iter.next()\n",
        "\n",
        "print(images.shape)\n",
        "print(label.shape)\n",
        "\n",
        "print(label[0])\n",
        "plt.imshow(images[0].numpy().squeeze(),cmap='gray_r')"
      ],
      "execution_count": 17,
      "outputs": [
        {
          "output_type": "stream",
          "text": [
            "torch.Size([128, 1, 28, 28])\n",
            "torch.Size([128])\n",
            "tensor(9)\n"
          ],
          "name": "stdout"
        },
        {
          "output_type": "execute_result",
          "data": {
            "text/plain": [
              "<matplotlib.image.AxesImage at 0x7f71115c6080>"
            ]
          },
          "metadata": {
            "tags": []
          },
          "execution_count": 17
        },
        {
          "output_type": "display_data",
          "data": {
            "image/png": "[encoded data removed]",
            "text/plain": [
              "<Figure size 432x288 with 1 Axes>"
            ]
          },
          "metadata": {
            "tags": []
          }
        }
      ]
    },
    {
      "cell_type": "markdown",
      "metadata": {
        "id": "7n6HAyA_sJgz",
        "colab_type": "text"
      },
      "source": [
        "It is important that we view as many images as possible. This is required to get some idea on image augmentation later on"
      ]
    },
    {
      "cell_type": "code",
      "metadata": {
        "id": "1jFrVSx5pVr6",
        "colab_type": "code",
        "colab": {
          "base_uri": "https://localhost:8080/",
          "height": 0
        },
        "outputId": "9634d5fe-f7d0-4975-bc91-f7cf3b2249cf"
      },
      "source": [
        "figure = plt.figure()\n",
        "num_images = 60\n",
        "\n",
        "data_iter = iter(train_loader)\n",
        "images, label = data_iter.next()\n",
        "\n",
        "for index in range(1,num_images+1):\n",
        "  plt.subplot(6,10,index)\n",
        "  plt.axis('off')\n",
        "  plt.imshow(images[index].numpy().squeeze(),cmap='gray_r')"
      ],
      "execution_count": 18,
      "outputs": [
        {
          "output_type": "display_data",
          "data": {
            "image/png": "[encoded data removed]",
            "text/plain": [
              "<Figure size 432x288 with 60 Axes>"
            ]
          },
          "metadata": {
            "tags": []
          }
        }
      ]
    },
    {
      "cell_type": "markdown",
      "metadata": {
        "id": "x1rFV43NttfD",
        "colab_type": "text"
      },
      "source": [
        "### 6. Defining CNN - architecture and forward propogation"
      ]
    },
    {
      "cell_type": "code",
      "metadata": {
        "id": "14uXrfGOttOX",
        "colab_type": "code",
        "colab": {}
      },
      "source": [
        "class Net(nn.Module):\n",
        "  def __init__(self):\n",
        "    super(Net,self).__init__()\n",
        "    self.conv1 = nn.Conv2d(in_channels=1, out_channels=32, kernel_size= 3, padding = 1) # 1x28x28|32x1x3x3|32x28x28, RF=3\n",
        "    self.conv2 = nn.Conv2d(in_channels=32,out_channels=64,kernel_size=3,padding=1) # 32x28x28|64x32x3x3|64x28x28, RF=5\n",
        "    self.pool1 = nn.MaxPool2d(kernel_size=2,stride=2) #64x28x28|2x2|64x14x14, RF=6, J=2\n",
        "    self.conv3 = nn.Conv2d(in_channels=64,out_channels=128,kernel_size=3, padding=1) #64x14x14|128x64x3x3|128x14x14, RF=10\n",
        "    self.conv4 = nn.Conv2d(in_channels=128,out_channels=256,kernel_size=3,padding=1) #128x14x14|256x128x3x3|256x14x14, RF=14\n",
        "    self.pool2 = nn.MaxPool2d(kernel_size=2,stride=2) #256x14x14|2x2|256x7x7, RF=16\n",
        "    self.conv5 = nn.Conv2d(in_channels=256, out_channels=512,kernel_size=3) #256x7x7|512x256x3x3|512x5x5, RF=24\n",
        "    self.conv6 = nn.Conv2d(in_channels=512,out_channels=1024,kernel_size=3) #512x5x5|1024x512x3x3|1024x3x3, RF=32\n",
        "    self.conv7 = nn.Conv2d(in_channels=1024,out_channels=10,kernel_size=3) #1024x3x3|10x1024x3x3|10x1x1, RF=40\n",
        "\n",
        "  def forward(self,x):\n",
        "    x = self.pool1(F.relu(self.conv2(F.relu(self.conv1(x)))))\n",
        "    x = self.pool2(F.relu(self.conv4(F.relu(self.conv3(x)))))\n",
        "    x = F.relu(self.conv6(F.relu(self.conv5(x))))\n",
        "    x = self.conv7(x)\n",
        "    x = x.view(-1,10)\n",
        "    return F.log_softmax(x , dim=1)"
      ],
      "execution_count": 0,
      "outputs": []
    },
    {
      "cell_type": "markdown",
      "metadata": {
        "id": "R53s5QQRRP4Q",
        "colab_type": "text"
      },
      "source": [
        "### 7. Model Parameter\n",
        "\n",
        "Can't emphasize on how important viewing Model Summary is. Unfortunately, there is no in-built model visualizer, so we have to take external help"
      ]
    },
    {
      "cell_type": "code",
      "metadata": {
        "id": "SoZcuP_KtBRI",
        "colab_type": "code",
        "colab": {
          "base_uri": "https://localhost:8080/",
          "height": 408
        },
        "outputId": "affb2d89-2c3d-4d66-ef4d-1d73218bcd3d"
      },
      "source": [
        "use_cuda = torch.cuda.is_available()\n",
        "device = torch.device(\"cuda\" if use_cuda else \"cpu\")\n",
        "\n",
        "print(\"Neural network passed to :\",device)\n",
        "\n",
        "model = Net().to(device)\n",
        "summary(model,input_size=(1,28,28))"
      ],
      "execution_count": 20,
      "outputs": [
        {
          "output_type": "stream",
          "text": [
            "Neural network passed to : cuda\n",
            "----------------------------------------------------------------\n",
            "        Layer (type)               Output Shape         Param #\n",
            "================================================================\n",
            "            Conv2d-1           [-1, 32, 28, 28]             320\n",
            "            Conv2d-2           [-1, 64, 28, 28]          18,496\n",
            "         MaxPool2d-3           [-1, 64, 14, 14]               0\n",
            "            Conv2d-4          [-1, 128, 14, 14]          73,856\n",
            "            Conv2d-5          [-1, 256, 14, 14]         295,168\n",
            "         MaxPool2d-6            [-1, 256, 7, 7]               0\n",
            "            Conv2d-7            [-1, 512, 5, 5]       1,180,160\n",
            "            Conv2d-8           [-1, 1024, 3, 3]       4,719,616\n",
            "            Conv2d-9             [-1, 10, 1, 1]          92,170\n",
            "================================================================\n",
            "Total params: 6,379,786\n",
            "Trainable params: 6,379,786\n",
            "Non-trainable params: 0\n",
            "----------------------------------------------------------------\n",
            "Input size (MB): 0.00\n",
            "Forward/backward pass size (MB): 1.51\n",
            "Params size (MB): 24.34\n",
            "Estimated Total Size (MB): 25.85\n",
            "----------------------------------------------------------------\n"
          ],
          "name": "stdout"
        }
      ]
    },
    {
      "cell_type": "markdown",
      "metadata": {
        "id": "CFYUZvBbYFJa",
        "colab_type": "text"
      },
      "source": [
        "### 8. Training and testing"
      ]
    },
    {
      "cell_type": "code",
      "metadata": {
        "id": "DBZFfAZbTHPq",
        "colab_type": "code",
        "colab": {}
      },
      "source": [
        "# Array initialization to track test and train accuracy and loss\n",
        "train_losses = []\n",
        "test_losses = []\n",
        "train_acc = []\n",
        "test_acc = []\n",
        "\n",
        "# Training function\n",
        "def train(model,device,train_loader, optimizer, epoch):\n",
        "  model.train()\n",
        "  pbar = tqdm(train_loader)\n",
        "\n",
        "  #image count\n",
        "  correct = 0\n",
        "  processed = 0\n",
        "\n",
        "  for batch_idx, (data,target) in enumerate(pbar):\n",
        "    # get samples\n",
        "    data, target = data.to(device),target.to(device)\n",
        "\n",
        "    #Init\n",
        "    optimizer.zero_grad()\n",
        "    # In PyTorch, we need to set the gradients to zero before starting to do backpropragation because PyTorch accumulates the gradients on subsequent backward passes. \n",
        "    # Because of this, when you start your training loop, ideally you should zero out the gradients so that you do the parameter update correctly.\n",
        "\n",
        "    #Predict\n",
        "    y_pred = model(data)\n",
        "\n",
        "    # Loss calculation\n",
        "    loss = F.nll_loss(y_pred,target)\n",
        "    train_losses.append(loss)\n",
        "\n",
        "    # Backward propagation\n",
        "    loss.backward()\n",
        "    optimizer.step()\n",
        "\n",
        "    # Update pbar-tqdm\n",
        "    pred = y_pred.argmax(dim=1, keepdim = True) # get the index of the max log-probability\n",
        "    correct += pred.eq(target.view_as(pred)).sum().item()\n",
        "    processed += len(data)\n",
        "\n",
        "    pbar.set_description(desc= f'Loss = {loss.item()} Batch_id = {batch_idx} Accuracy={100*correct/processed:0.2f}')\n",
        "    train_acc.append(100*correct/processed)\n",
        "\n",
        "\n",
        "def test(model,device,test_loader):\n",
        "  model.eval()\n",
        "  test_loss=0\n",
        "  correct =0\n",
        "\n",
        "  with torch.no_grad():\n",
        "    for data,target in test_loader:\n",
        "      data,target = data.to(device),target.to(device)\n",
        "      output = model(data)\n",
        "      test_loss += F.nll_loss(output,target,reduction='sum').item() #sum up batch loss\n",
        "      pred = output.argmax(dim=1, keepdim=True) # get the index of the max log-probability\n",
        "      correct += pred.eq(target.view_as(pred)).sum().item()\n",
        "\n",
        "  test_loss /= len(test_loader.dataset)\n",
        "  test_losses.append(test_loss)\n",
        "\n",
        "  print('\\nTest Set: Average Loss: {:.4f}, Accuracy: {}/{} ({:.2f}%)\\n'.format(\n",
        "      test_loss, correct, len(test_loader.dataset), 100.*correct/len(test_loader.dataset)))\n",
        "  \n",
        "  test_acc.append(100.*correct/len(test_loader.dataset))\n",
        "  "
      ],
      "execution_count": 0,
      "outputs": []
    },
    {
      "cell_type": "code",
      "metadata": {
        "id": "13RH0fwr1BDv",
        "colab_type": "code",
        "colab": {
          "base_uri": "https://localhost:8080/",
          "height": 1000
        },
        "outputId": "4cf87466-5de8-47c1-e588-3b944fd36134"
      },
      "source": [
        "model = Net().to(device)\n",
        "optimizer = optim.SGD(model.parameters(),lr=0.01,momentum=0.9)\n",
        "EPOCHS = 20\n",
        "\n",
        "for epoch in range(EPOCHS):\n",
        "  print('EPOCH:',epoch)\n",
        "  train(model,device,train_loader,optimizer,epoch)\n",
        "  test(model,device,test_loader)"
      ],
      "execution_count": 30,
      "outputs": [
        {
          "output_type": "stream",
          "text": [
            "\r  0%|          | 0/469 [00:00<?, ?it/s]"
          ],
          "name": "stderr"
        },
        {
          "output_type": "stream",
          "text": [
            "EPOCH: 0\n"
          ],
          "name": "stdout"
        },
        {
          "output_type": "stream",
          "text": [
            "Loss = 0.01626829244196415 Batch_id = 468 Accuracy=86.15: 100%|██████████| 469/469 [00:22<00:00, 22.34it/s]\n",
            "  0%|          | 0/469 [00:00<?, ?it/s]"
          ],
          "name": "stderr"
        },
        {
          "output_type": "stream",
          "text": [
            "\n",
            "Test Set: Average Loss: 0.0536, Accuracy: 9832/10000 (98.32%)\n",
            "\n",
            "EPOCH: 1\n"
          ],
          "name": "stdout"
        },
        {
          "output_type": "stream",
          "text": [
            "Loss = 0.026628941297531128 Batch_id = 468 Accuracy=98.31: 100%|██████████| 469/469 [00:22<00:00, 21.23it/s]\n",
            "  0%|          | 0/469 [00:00<?, ?it/s]"
          ],
          "name": "stderr"
        },
        {
          "output_type": "stream",
          "text": [
            "\n",
            "Test Set: Average Loss: 0.0444, Accuracy: 9850/10000 (98.50%)\n",
            "\n",
            "EPOCH: 2\n"
          ],
          "name": "stdout"
        },
        {
          "output_type": "stream",
          "text": [
            "Loss = 0.048851367086172104 Batch_id = 468 Accuracy=98.88: 100%|██████████| 469/469 [00:22<00:00, 20.56it/s]\n",
            "  0%|          | 0/469 [00:00<?, ?it/s]"
          ],
          "name": "stderr"
        },
        {
          "output_type": "stream",
          "text": [
            "\n",
            "Test Set: Average Loss: 0.0320, Accuracy: 9893/10000 (98.93%)\n",
            "\n",
            "EPOCH: 3\n"
          ],
          "name": "stdout"
        },
        {
          "output_type": "stream",
          "text": [
            "Loss = 0.045148447155952454 Batch_id = 468 Accuracy=99.20: 100%|██████████| 469/469 [00:22<00:00, 21.01it/s]\n",
            "  0%|          | 0/469 [00:00<?, ?it/s]"
          ],
          "name": "stderr"
        },
        {
          "output_type": "stream",
          "text": [
            "\n",
            "Test Set: Average Loss: 0.0356, Accuracy: 9889/10000 (98.89%)\n",
            "\n",
            "EPOCH: 4\n"
          ],
          "name": "stdout"
        },
        {
          "output_type": "stream",
          "text": [
            "Loss = 0.006253600120544434 Batch_id = 468 Accuracy=99.35: 100%|██████████| 469/469 [00:22<00:00, 20.72it/s]\n",
            "  0%|          | 0/469 [00:00<?, ?it/s]"
          ],
          "name": "stderr"
        },
        {
          "output_type": "stream",
          "text": [
            "\n",
            "Test Set: Average Loss: 0.0258, Accuracy: 9919/10000 (99.19%)\n",
            "\n",
            "EPOCH: 5\n"
          ],
          "name": "stdout"
        },
        {
          "output_type": "stream",
          "text": [
            "Loss = 0.04404385760426521 Batch_id = 468 Accuracy=99.47: 100%|██████████| 469/469 [00:22<00:00, 20.46it/s]\n",
            "  0%|          | 0/469 [00:00<?, ?it/s]"
          ],
          "name": "stderr"
        },
        {
          "output_type": "stream",
          "text": [
            "\n",
            "Test Set: Average Loss: 0.0288, Accuracy: 9917/10000 (99.17%)\n",
            "\n",
            "EPOCH: 6\n"
          ],
          "name": "stdout"
        },
        {
          "output_type": "stream",
          "text": [
            "Loss = 0.007095774170011282 Batch_id = 468 Accuracy=99.60: 100%|██████████| 469/469 [00:22<00:00, 20.43it/s]\n",
            "  0%|          | 0/469 [00:00<?, ?it/s]"
          ],
          "name": "stderr"
        },
        {
          "output_type": "stream",
          "text": [
            "\n",
            "Test Set: Average Loss: 0.0273, Accuracy: 9914/10000 (99.14%)\n",
            "\n",
            "EPOCH: 7\n"
          ],
          "name": "stdout"
        },
        {
          "output_type": "stream",
          "text": [
            "Loss = 0.010069022886455059 Batch_id = 468 Accuracy=99.69: 100%|██████████| 469/469 [00:22<00:00, 20.49it/s]\n",
            "  0%|          | 0/469 [00:00<?, ?it/s]"
          ],
          "name": "stderr"
        },
        {
          "output_type": "stream",
          "text": [
            "\n",
            "Test Set: Average Loss: 0.0276, Accuracy: 9921/10000 (99.21%)\n",
            "\n",
            "EPOCH: 8\n"
          ],
          "name": "stdout"
        },
        {
          "output_type": "stream",
          "text": [
            "Loss = 0.0007088531856425107 Batch_id = 468 Accuracy=99.77: 100%|██████████| 469/469 [00:22<00:00, 20.58it/s]\n",
            "  0%|          | 0/469 [00:00<?, ?it/s]"
          ],
          "name": "stderr"
        },
        {
          "output_type": "stream",
          "text": [
            "\n",
            "Test Set: Average Loss: 0.0310, Accuracy: 9921/10000 (99.21%)\n",
            "\n",
            "EPOCH: 9\n"
          ],
          "name": "stdout"
        },
        {
          "output_type": "stream",
          "text": [
            "Loss = 0.01642453670501709 Batch_id = 468 Accuracy=99.75: 100%|██████████| 469/469 [00:22<00:00, 20.44it/s]\n",
            "  0%|          | 0/469 [00:00<?, ?it/s]"
          ],
          "name": "stderr"
        },
        {
          "output_type": "stream",
          "text": [
            "\n",
            "Test Set: Average Loss: 0.0275, Accuracy: 9915/10000 (99.15%)\n",
            "\n",
            "EPOCH: 10\n"
          ],
          "name": "stdout"
        },
        {
          "output_type": "stream",
          "text": [
            "Loss = 0.0075905523262917995 Batch_id = 468 Accuracy=99.81: 100%|██████████| 469/469 [00:22<00:00, 22.00it/s]\n",
            "  0%|          | 0/469 [00:00<?, ?it/s]"
          ],
          "name": "stderr"
        },
        {
          "output_type": "stream",
          "text": [
            "\n",
            "Test Set: Average Loss: 0.0280, Accuracy: 9924/10000 (99.24%)\n",
            "\n",
            "EPOCH: 11\n"
          ],
          "name": "stdout"
        },
        {
          "output_type": "stream",
          "text": [
            "Loss = 0.025761326774954796 Batch_id = 468 Accuracy=99.86: 100%|██████████| 469/469 [00:22<00:00, 20.70it/s]\n",
            "  0%|          | 0/469 [00:00<?, ?it/s]"
          ],
          "name": "stderr"
        },
        {
          "output_type": "stream",
          "text": [
            "\n",
            "Test Set: Average Loss: 0.0303, Accuracy: 9916/10000 (99.16%)\n",
            "\n",
            "EPOCH: 12\n"
          ],
          "name": "stdout"
        },
        {
          "output_type": "stream",
          "text": [
            "Loss = 0.0006995101575739682 Batch_id = 468 Accuracy=99.92: 100%|██████████| 469/469 [00:23<00:00, 21.60it/s]\n",
            "  0%|          | 0/469 [00:00<?, ?it/s]"
          ],
          "name": "stderr"
        },
        {
          "output_type": "stream",
          "text": [
            "\n",
            "Test Set: Average Loss: 0.0308, Accuracy: 9916/10000 (99.16%)\n",
            "\n",
            "EPOCH: 13\n"
          ],
          "name": "stdout"
        },
        {
          "output_type": "stream",
          "text": [
            "Loss = 0.00016533334564883262 Batch_id = 468 Accuracy=99.93: 100%|██████████| 469/469 [00:22<00:00, 20.41it/s]\n",
            "  0%|          | 0/469 [00:00<?, ?it/s]"
          ],
          "name": "stderr"
        },
        {
          "output_type": "stream",
          "text": [
            "\n",
            "Test Set: Average Loss: 0.0272, Accuracy: 9924/10000 (99.24%)\n",
            "\n",
            "EPOCH: 14\n"
          ],
          "name": "stdout"
        },
        {
          "output_type": "stream",
          "text": [
            "Loss = 4.55776862509083e-05 Batch_id = 468 Accuracy=99.96: 100%|██████████| 469/469 [00:23<00:00, 21.08it/s]\n",
            "  0%|          | 0/469 [00:00<?, ?it/s]"
          ],
          "name": "stderr"
        },
        {
          "output_type": "stream",
          "text": [
            "\n",
            "Test Set: Average Loss: 0.0308, Accuracy: 9930/10000 (99.30%)\n",
            "\n",
            "EPOCH: 15\n"
          ],
          "name": "stdout"
        },
        {
          "output_type": "stream",
          "text": [
            "Loss = 0.0013808110961690545 Batch_id = 468 Accuracy=99.97: 100%|██████████| 469/469 [00:22<00:00, 21.50it/s]\n",
            "  0%|          | 0/469 [00:00<?, ?it/s]"
          ],
          "name": "stderr"
        },
        {
          "output_type": "stream",
          "text": [
            "\n",
            "Test Set: Average Loss: 0.0293, Accuracy: 9931/10000 (99.31%)\n",
            "\n",
            "EPOCH: 16\n"
          ],
          "name": "stdout"
        },
        {
          "output_type": "stream",
          "text": [
            "Loss = 5.4329633712768555e-05 Batch_id = 468 Accuracy=99.99: 100%|██████████| 469/469 [00:22<00:00, 20.96it/s]\n",
            "  0%|          | 0/469 [00:00<?, ?it/s]"
          ],
          "name": "stderr"
        },
        {
          "output_type": "stream",
          "text": [
            "\n",
            "Test Set: Average Loss: 0.0302, Accuracy: 9928/10000 (99.28%)\n",
            "\n",
            "EPOCH: 17\n"
          ],
          "name": "stdout"
        },
        {
          "output_type": "stream",
          "text": [
            "Loss = 5.575020986725576e-05 Batch_id = 468 Accuracy=100.00: 100%|██████████| 469/469 [00:23<00:00, 20.32it/s]\n",
            "  0%|          | 0/469 [00:00<?, ?it/s]"
          ],
          "name": "stderr"
        },
        {
          "output_type": "stream",
          "text": [
            "\n",
            "Test Set: Average Loss: 0.0310, Accuracy: 9932/10000 (99.32%)\n",
            "\n",
            "EPOCH: 18\n"
          ],
          "name": "stdout"
        },
        {
          "output_type": "stream",
          "text": [
            "Loss = 9.765227332536597e-06 Batch_id = 468 Accuracy=100.00: 100%|██████████| 469/469 [00:22<00:00, 20.47it/s]\n",
            "  0%|          | 0/469 [00:00<?, ?it/s]"
          ],
          "name": "stderr"
        },
        {
          "output_type": "stream",
          "text": [
            "\n",
            "Test Set: Average Loss: 0.0314, Accuracy: 9926/10000 (99.26%)\n",
            "\n",
            "EPOCH: 19\n"
          ],
          "name": "stdout"
        },
        {
          "output_type": "stream",
          "text": [
            "Loss = 1.2497107491071802e-05 Batch_id = 468 Accuracy=100.00: 100%|██████████| 469/469 [00:23<00:00, 20.32it/s]\n"
          ],
          "name": "stderr"
        },
        {
          "output_type": "stream",
          "text": [
            "\n",
            "Test Set: Average Loss: 0.0319, Accuracy: 9930/10000 (99.30%)\n",
            "\n"
          ],
          "name": "stdout"
        }
      ]
    },
    {
      "cell_type": "markdown",
      "metadata": {
        "id": "w-nI888X-iGI",
        "colab_type": "text"
      },
      "source": [
        "### 9. Plot training and test results"
      ]
    },
    {
      "cell_type": "code",
      "metadata": {
        "id": "Oac9jMIW2A9n",
        "colab_type": "code",
        "colab": {
          "base_uri": "https://localhost:8080/",
          "height": 585
        },
        "outputId": "a3f90468-a436-420e-e92a-099b3a6e8cff"
      },
      "source": [
        "fig, axs = plt.subplots(2,2,figsize=(16,8))\n",
        "axs[0, 0].plot(train_losses)\n",
        "axs[0, 0].set_title(\"Training Loss\",fontsize=16)\n",
        "axs[1, 0].plot(train_acc)\n",
        "axs[1, 0].set_title(\"Training Accuracy\",fontsize=16)\n",
        "axs[0, 1].plot(test_losses)\n",
        "axs[0, 1].set_title(\"Test Loss\",fontsize=16)\n",
        "axs[1, 1].plot(test_acc)\n",
        "axs[1, 1].set_title(\"Test Accuracy\",fontsize=16)\n",
        "fig.tight_layout()\n",
        "fig.show()"
      ],
      "execution_count": 38,
      "outputs": [
        {
          "output_type": "display_data",
          "data": {
            "image/png": "[encoded data removed]",
            "text/plain": [
              "<Figure size 1152x576 with 4 Axes>"
            ]
          },
          "metadata": {
            "tags": []
          }
        }
      ]
    },
    {
      "cell_type": "code",
      "metadata": {
        "id": "JAX-UObk5Rki",
        "colab_type": "code",
        "colab": {}
      },
      "source": [
        ""
      ],
      "execution_count": 0,
      "outputs": []
    }
  ]
}